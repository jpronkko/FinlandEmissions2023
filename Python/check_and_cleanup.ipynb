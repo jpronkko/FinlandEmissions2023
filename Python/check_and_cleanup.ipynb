{
 "cells": [
  {
   "cell_type": "markdown",
   "metadata": {},
   "source": []
  },
  {
   "cell_type": "code",
   "execution_count": 292,
   "metadata": {},
   "outputs": [
    {
     "name": "stdout",
     "output_type": "stream",
     "text": [
      "Requirement already satisfied: pandas in d:\\programming\\powerbi\\finlandemissions2023\\.venv\\lib\\site-packages (2.2.2)\n",
      "Requirement already satisfied: numpy>=1.23.2 in d:\\programming\\powerbi\\finlandemissions2023\\.venv\\lib\\site-packages (from pandas) (2.1.0)\n",
      "Requirement already satisfied: python-dateutil>=2.8.2 in d:\\programming\\powerbi\\finlandemissions2023\\.venv\\lib\\site-packages (from pandas) (2.9.0.post0)\n",
      "Requirement already satisfied: pytz>=2020.1 in d:\\programming\\powerbi\\finlandemissions2023\\.venv\\lib\\site-packages (from pandas) (2024.1)\n",
      "Requirement already satisfied: tzdata>=2022.7 in d:\\programming\\powerbi\\finlandemissions2023\\.venv\\lib\\site-packages (from pandas) (2024.1)\n",
      "Requirement already satisfied: six>=1.5 in d:\\programming\\powerbi\\finlandemissions2023\\.venv\\lib\\site-packages (from python-dateutil>=2.8.2->pandas) (1.16.0)\n",
      "Note: you may need to restart the kernel to use updated packages.\n",
      "Requirement already satisfied: numpy in d:\\programming\\powerbi\\finlandemissions2023\\.venv\\lib\\site-packages (2.1.0)\n",
      "Note: you may need to restart the kernel to use updated packages.\n",
      "Requirement already satisfied: matplotlib in d:\\programming\\powerbi\\finlandemissions2023\\.venv\\lib\\site-packages (3.9.2)\n",
      "Requirement already satisfied: contourpy>=1.0.1 in d:\\programming\\powerbi\\finlandemissions2023\\.venv\\lib\\site-packages (from matplotlib) (1.3.0)\n",
      "Requirement already satisfied: cycler>=0.10 in d:\\programming\\powerbi\\finlandemissions2023\\.venv\\lib\\site-packages (from matplotlib) (0.12.1)\n",
      "Requirement already satisfied: fonttools>=4.22.0 in d:\\programming\\powerbi\\finlandemissions2023\\.venv\\lib\\site-packages (from matplotlib) (4.53.1)\n",
      "Requirement already satisfied: kiwisolver>=1.3.1 in d:\\programming\\powerbi\\finlandemissions2023\\.venv\\lib\\site-packages (from matplotlib) (1.4.5)\n",
      "Requirement already satisfied: numpy>=1.23 in d:\\programming\\powerbi\\finlandemissions2023\\.venv\\lib\\site-packages (from matplotlib) (2.1.0)\n",
      "Requirement already satisfied: packaging>=20.0 in d:\\programming\\powerbi\\finlandemissions2023\\.venv\\lib\\site-packages (from matplotlib) (24.1)\n",
      "Requirement already satisfied: pillow>=8 in d:\\programming\\powerbi\\finlandemissions2023\\.venv\\lib\\site-packages (from matplotlib) (10.4.0)\n",
      "Requirement already satisfied: pyparsing>=2.3.1 in d:\\programming\\powerbi\\finlandemissions2023\\.venv\\lib\\site-packages (from matplotlib) (3.1.4)\n",
      "Requirement already satisfied: python-dateutil>=2.7 in d:\\programming\\powerbi\\finlandemissions2023\\.venv\\lib\\site-packages (from matplotlib) (2.9.0.post0)\n",
      "Requirement already satisfied: six>=1.5 in d:\\programming\\powerbi\\finlandemissions2023\\.venv\\lib\\site-packages (from python-dateutil>=2.7->matplotlib) (1.16.0)\n",
      "Note: you may need to restart the kernel to use updated packages.\n",
      "Requirement already satisfied: seaborn in d:\\programming\\powerbi\\finlandemissions2023\\.venv\\lib\\site-packages (0.13.2)\n",
      "Requirement already satisfied: numpy!=1.24.0,>=1.20 in d:\\programming\\powerbi\\finlandemissions2023\\.venv\\lib\\site-packages (from seaborn) (2.1.0)\n",
      "Requirement already satisfied: pandas>=1.2 in d:\\programming\\powerbi\\finlandemissions2023\\.venv\\lib\\site-packages (from seaborn) (2.2.2)\n",
      "Requirement already satisfied: matplotlib!=3.6.1,>=3.4 in d:\\programming\\powerbi\\finlandemissions2023\\.venv\\lib\\site-packages (from seaborn) (3.9.2)\n",
      "Requirement already satisfied: contourpy>=1.0.1 in d:\\programming\\powerbi\\finlandemissions2023\\.venv\\lib\\site-packages (from matplotlib!=3.6.1,>=3.4->seaborn) (1.3.0)\n",
      "Requirement already satisfied: cycler>=0.10 in d:\\programming\\powerbi\\finlandemissions2023\\.venv\\lib\\site-packages (from matplotlib!=3.6.1,>=3.4->seaborn) (0.12.1)\n",
      "Requirement already satisfied: fonttools>=4.22.0 in d:\\programming\\powerbi\\finlandemissions2023\\.venv\\lib\\site-packages (from matplotlib!=3.6.1,>=3.4->seaborn) (4.53.1)\n",
      "Requirement already satisfied: kiwisolver>=1.3.1 in d:\\programming\\powerbi\\finlandemissions2023\\.venv\\lib\\site-packages (from matplotlib!=3.6.1,>=3.4->seaborn) (1.4.5)\n",
      "Requirement already satisfied: packaging>=20.0 in d:\\programming\\powerbi\\finlandemissions2023\\.venv\\lib\\site-packages (from matplotlib!=3.6.1,>=3.4->seaborn) (24.1)\n",
      "Requirement already satisfied: pillow>=8 in d:\\programming\\powerbi\\finlandemissions2023\\.venv\\lib\\site-packages (from matplotlib!=3.6.1,>=3.4->seaborn) (10.4.0)\n",
      "Requirement already satisfied: pyparsing>=2.3.1 in d:\\programming\\powerbi\\finlandemissions2023\\.venv\\lib\\site-packages (from matplotlib!=3.6.1,>=3.4->seaborn) (3.1.4)\n",
      "Requirement already satisfied: python-dateutil>=2.7 in d:\\programming\\powerbi\\finlandemissions2023\\.venv\\lib\\site-packages (from matplotlib!=3.6.1,>=3.4->seaborn) (2.9.0.post0)\n",
      "Requirement already satisfied: pytz>=2020.1 in d:\\programming\\powerbi\\finlandemissions2023\\.venv\\lib\\site-packages (from pandas>=1.2->seaborn) (2024.1)\n",
      "Requirement already satisfied: tzdata>=2022.7 in d:\\programming\\powerbi\\finlandemissions2023\\.venv\\lib\\site-packages (from pandas>=1.2->seaborn) (2024.1)\n",
      "Requirement already satisfied: six>=1.5 in d:\\programming\\powerbi\\finlandemissions2023\\.venv\\lib\\site-packages (from python-dateutil>=2.7->matplotlib!=3.6.1,>=3.4->seaborn) (1.16.0)\n",
      "Note: you may need to restart the kernel to use updated packages.\n",
      "Requirement already satisfied: openpyxl in d:\\programming\\powerbi\\finlandemissions2023\\.venv\\lib\\site-packages (3.1.5)\n",
      "Requirement already satisfied: et-xmlfile in d:\\programming\\powerbi\\finlandemissions2023\\.venv\\lib\\site-packages (from openpyxl) (1.1.0)\n",
      "Note: you may need to restart the kernel to use updated packages.\n"
     ]
    }
   ],
   "source": [
    "%pip install pandas\n",
    "%pip install numpy\n",
    "%pip install matplotlib\n",
    "%pip install seaborn\n",
    "%pip install openpyxl"
   ]
  },
  {
   "cell_type": "code",
   "execution_count": 293,
   "metadata": {},
   "outputs": [],
   "source": [
    "# imports\n",
    "import pandas as pd\n",
    "import seaborn as sns\n",
    "import matplotlib.pyplot as plt\n",
    "import os\n",
    "import numpy as np\n",
    "import openpyxl"
   ]
  },
  {
   "cell_type": "markdown",
   "metadata": {},
   "source": [
    "Get the CSV file in and check the header what it looks like"
   ]
  },
  {
   "cell_type": "code",
   "execution_count": 294,
   "metadata": {},
   "outputs": [
    {
     "name": "stdout",
     "output_type": "stream",
     "text": [
      "d:\\Programming\\PowerBI\\FinlandEmissions2023\\Data\\Finland_emissions_2023.csv d:\\Programming\\PowerBI\\FinlandEmissions2023\\Python\n"
     ]
    },
    {
     "data": {
      "text/html": [
       "<div>\n",
       "<style scoped>\n",
       "    .dataframe tbody tr th:only-of-type {\n",
       "        vertical-align: middle;\n",
       "    }\n",
       "\n",
       "    .dataframe tbody tr th {\n",
       "        vertical-align: top;\n",
       "    }\n",
       "\n",
       "    .dataframe thead th {\n",
       "        text-align: right;\n",
       "    }\n",
       "</style>\n",
       "<table border=\"1\" class=\"dataframe\">\n",
       "  <thead>\n",
       "    <tr style=\"text-align: right;\">\n",
       "      <th></th>\n",
       "      <th>Year</th>\n",
       "      <th>Emission category</th>\n",
       "      <th>Greenhouse gas</th>\n",
       "      <th>Emission, thousand tonnes of CO2 eq. (GWP=AR5)</th>\n",
       "    </tr>\n",
       "  </thead>\n",
       "  <tbody>\n",
       "    <tr>\n",
       "      <th>0</th>\n",
       "      <td>1990</td>\n",
       "      <td>Emissions without LULUCF</td>\n",
       "      <td>Total</td>\n",
       "      <td>71331</td>\n",
       "    </tr>\n",
       "    <tr>\n",
       "      <th>1</th>\n",
       "      <td>1990</td>\n",
       "      <td>Emissions without LULUCF</td>\n",
       "      <td>Carbon dioxide (CO2)</td>\n",
       "      <td>57086</td>\n",
       "    </tr>\n",
       "    <tr>\n",
       "      <th>2</th>\n",
       "      <td>1990</td>\n",
       "      <td>Emissions without LULUCF</td>\n",
       "      <td>Methane (CH4)</td>\n",
       "      <td>8624</td>\n",
       "    </tr>\n",
       "    <tr>\n",
       "      <th>3</th>\n",
       "      <td>1990</td>\n",
       "      <td>Emissions without LULUCF</td>\n",
       "      <td>Nitrous oxide (N2O)</td>\n",
       "      <td>5567</td>\n",
       "    </tr>\n",
       "    <tr>\n",
       "      <th>4</th>\n",
       "      <td>1990</td>\n",
       "      <td>Emissions without LULUCF</td>\n",
       "      <td>F-gases (HFCs+PFCs+SF6)</td>\n",
       "      <td>54</td>\n",
       "    </tr>\n",
       "    <tr>\n",
       "      <th>5</th>\n",
       "      <td>1990</td>\n",
       "      <td>Emissions without LULUCF</td>\n",
       "      <td>Hydrofluorocarbons (HFCs)</td>\n",
       "      <td>0</td>\n",
       "    </tr>\n",
       "    <tr>\n",
       "      <th>6</th>\n",
       "      <td>1990</td>\n",
       "      <td>Emissions without LULUCF</td>\n",
       "      <td>Perfluorocarbons (PFCs)</td>\n",
       "      <td>0</td>\n",
       "    </tr>\n",
       "    <tr>\n",
       "      <th>7</th>\n",
       "      <td>1990</td>\n",
       "      <td>Emissions without LULUCF</td>\n",
       "      <td>Sulfur hexafluoride (SF6)</td>\n",
       "      <td>54</td>\n",
       "    </tr>\n",
       "    <tr>\n",
       "      <th>8</th>\n",
       "      <td>1990</td>\n",
       "      <td>Emissions with LULUCF</td>\n",
       "      <td>Total</td>\n",
       "      <td>48156</td>\n",
       "    </tr>\n",
       "    <tr>\n",
       "      <th>9</th>\n",
       "      <td>1990</td>\n",
       "      <td>Emissions with LULUCF</td>\n",
       "      <td>Carbon dioxide (CO2)</td>\n",
       "      <td>30720</td>\n",
       "    </tr>\n",
       "  </tbody>\n",
       "</table>\n",
       "</div>"
      ],
      "text/plain": [
       "   Year         Emission category             Greenhouse gas  \\\n",
       "0  1990  Emissions without LULUCF                      Total   \n",
       "1  1990  Emissions without LULUCF       Carbon dioxide (CO2)   \n",
       "2  1990  Emissions without LULUCF              Methane (CH4)   \n",
       "3  1990  Emissions without LULUCF        Nitrous oxide (N2O)   \n",
       "4  1990  Emissions without LULUCF    F-gases (HFCs+PFCs+SF6)   \n",
       "5  1990  Emissions without LULUCF  Hydrofluorocarbons (HFCs)   \n",
       "6  1990  Emissions without LULUCF    Perfluorocarbons (PFCs)   \n",
       "7  1990  Emissions without LULUCF  Sulfur hexafluoride (SF6)   \n",
       "8  1990     Emissions with LULUCF                      Total   \n",
       "9  1990     Emissions with LULUCF       Carbon dioxide (CO2)   \n",
       "\n",
       "  Emission, thousand tonnes of CO2 eq. (GWP=AR5)  \n",
       "0                                          71331  \n",
       "1                                          57086  \n",
       "2                                           8624  \n",
       "3                                           5567  \n",
       "4                                             54  \n",
       "5                                              0  \n",
       "6                                              0  \n",
       "7                                             54  \n",
       "8                                          48156  \n",
       "9                                          30720  "
      ]
     },
     "execution_count": 294,
     "metadata": {},
     "output_type": "execute_result"
    }
   ],
   "source": [
    "data_dir = 'd:\\\\Programming\\\\PowerBI\\\\FinlandEmissions2023\\\\Data\\\\'\n",
    "main_file = 'Finland_emissions_2023.csv'\n",
    "print(data_dir + main_file + \" \" + os.getcwd())\n",
    "df = pd.read_csv(data_dir + main_file)\n",
    "\n",
    "df.head(10)"
   ]
  },
  {
   "cell_type": "markdown",
   "metadata": {},
   "source": [
    "Checking the imported types for conversion to more appropriate types"
   ]
  },
  {
   "cell_type": "code",
   "execution_count": 295,
   "metadata": {},
   "outputs": [
    {
     "data": {
      "text/plain": [
       "Year                                              object\n",
       "Emission category                                 object\n",
       "Greenhouse gas                                    object\n",
       "Emission, thousand tonnes of CO2 eq. (GWP=AR5)    object\n",
       "dtype: object"
      ]
     },
     "execution_count": 295,
     "metadata": {},
     "output_type": "execute_result"
    }
   ],
   "source": [
    "df.dtypes"
   ]
  },
  {
   "cell_type": "code",
   "execution_count": 296,
   "metadata": {},
   "outputs": [],
   "source": [
    "df.rename(columns={\"Emission, thousand tonnes of CO2 eq. (GWP=AR5)\": \"Emission CO2 equiv\"}, inplace=True)\n",
    "\n",
    "# Do preparations for the data to be able to convert certain columns to numeric\n",
    "df.loc[df['Year'] == \"2023*\"] = \"2023\"\n",
    "df.loc[df['Emission CO2 equiv'] == \"-\"] = 0\n",
    "df.loc[df['Emission CO2 equiv'] == \",\"] = 0\n",
    "df.loc[df['Emission CO2 equiv'] == \".\"] = 0\n",
    "\n",
    "\n",
    "#df[['Year', 'Emission CO2 equiv']] = df[['Year', 'Emission CO2 equiv']].apply(pd.to_numeric)\n",
    "#df[['Emission category', 'Greenhouse gas']] = df[['Emission category', 'Greenhouse gas']].apply(str)\n"
   ]
  },
  {
   "cell_type": "code",
   "execution_count": 297,
   "metadata": {},
   "outputs": [
    {
     "name": "stdout",
     "output_type": "stream",
     "text": [
      "Main categories: \n",
      "                                     Main category\n",
      "0                                           No cat\n",
      "1                                           Energy\n",
      "2             Industrial processes and product use\n",
      "3                                      Agriculture\n",
      "4  Land use, land-use change and forestry (LULUCF)\n",
      "5                                 Waste management\n",
      "LULUCF\n",
      "   Year         Emission category             Greenhouse gas  \\\n",
      "0  1990  Emissions without LULUCF                      Total   \n",
      "1  1990  Emissions without LULUCF       Carbon dioxide (CO2)   \n",
      "2  1990  Emissions without LULUCF              Methane (CH4)   \n",
      "3  1990  Emissions without LULUCF        Nitrous oxide (N2O)   \n",
      "4  1990  Emissions without LULUCF    F-gases (HFCs+PFCs+SF6)   \n",
      "5  1990  Emissions without LULUCF  Hydrofluorocarbons (HFCs)   \n",
      "6  1990  Emissions without LULUCF    Perfluorocarbons (PFCs)   \n",
      "7  1990  Emissions without LULUCF  Sulfur hexafluoride (SF6)   \n",
      "8  1990     Emissions with LULUCF                      Total   \n",
      "9  1990     Emissions with LULUCF       Carbon dioxide (CO2)   \n",
      "\n",
      "   Emission CO2 equiv  main category  \n",
      "0               71331              0  \n",
      "1               57086              0  \n",
      "2                8624              0  \n",
      "3                5567              0  \n",
      "4                  54              0  \n",
      "5                   0              0  \n",
      "6                   0              0  \n",
      "7                  54              0  \n",
      "8               48156              0  \n",
      "9               30720              0  \n"
     ]
    },
    {
     "name": "stderr",
     "output_type": "stream",
     "text": [
      "C:\\Users\\jr\\AppData\\Local\\Temp\\ipykernel_29240\\2042691627.py:18: FutureWarning: The 'downcast' keyword in fillna is deprecated and will be removed in a future version. Use res.infer_objects(copy=False) to infer non-object dtype, or pd.to_numeric with the 'downcast' keyword to downcast numeric results.\n",
      "  df[\"main category\"] = df[\"main category\"].fillna(0, downcast='int')\n"
     ]
    }
   ],
   "source": [
    "df[['Year', 'Emission CO2 equiv']] = df[['Year', 'Emission CO2 equiv']].apply(pd.to_numeric)\n",
    "# drop rows with all zeros\n",
    "df = df.loc[(df!=0).any(axis=1)]\n",
    "\n",
    "# Dig out the main categories of emissions\n",
    "main_categories = df[df['Greenhouse gas'].str.contains('Total') & df['Emission category'].str.contains(r'^[1-5]\\s')][\"Emission category\"].unique()\n",
    "main_categories = [x.split(\" \", 1)[1] for x in main_categories]\n",
    "main_categories = pd.DataFrame([\"No cat\"] + main_categories, columns=[\"Main category\"])\n",
    "main_categories.set_index(np.arange(0, main_categories.shape[0]), inplace=True)\n",
    "\n",
    "print(\"Main categories: \")\n",
    "print(main_categories)\n",
    "\n",
    "# Add a column for the main category to reference to the main category table\n",
    "s1 = pd.Series(df['Emission category'].str.contains(r'^[1-5]\\w*\\s'))\n",
    "df[\"main category\"] = df.loc[s1][\"Emission category\"].apply(lambda x: int(x[0]))\n",
    "df[\"main category\"] = df[\"main category\"].fillna(0, downcast='int')\n",
    "#df[\"main category\"] = df[\"main category\"].astype(int)\n",
    "\n",
    "df_lulucf = df[df['Emission category'].str.contains('LULUCF')]\n",
    "df = df[~df['Emission category'].str.contains('LULUCF')]\n",
    "\n",
    "print(\"LULUCF\")\n",
    "print(df_lulucf.head(10))\n",
    "\n",
    "main_categories.to_excel(data_dir + \"main_categories.xlsx\")\n",
    "df.to_excel(data_dir + \"Finland_emissions_2023_cleaned.xlsx\")\n",
    "df_lulucf.to_excel(data_dir + \"Finland_emissions_2023_LULUCF.xlsx\")\n"
   ]
  },
  {
   "cell_type": "code",
   "execution_count": 299,
   "metadata": {},
   "outputs": [
    {
     "data": {
      "text/html": [
       "<div>\n",
       "<style scoped>\n",
       "    .dataframe tbody tr th:only-of-type {\n",
       "        vertical-align: middle;\n",
       "    }\n",
       "\n",
       "    .dataframe tbody tr th {\n",
       "        vertical-align: top;\n",
       "    }\n",
       "\n",
       "    .dataframe thead th {\n",
       "        text-align: right;\n",
       "    }\n",
       "</style>\n",
       "<table border=\"1\" class=\"dataframe\">\n",
       "  <thead>\n",
       "    <tr style=\"text-align: right;\">\n",
       "      <th></th>\n",
       "      <th>Year</th>\n",
       "      <th>Emission category</th>\n",
       "      <th>Emission CO2 equiv</th>\n",
       "      <th>main category</th>\n",
       "    </tr>\n",
       "  </thead>\n",
       "  <tbody>\n",
       "    <tr>\n",
       "      <th>16</th>\n",
       "      <td>1990</td>\n",
       "      <td>1 Energy</td>\n",
       "      <td>53420</td>\n",
       "      <td>1</td>\n",
       "    </tr>\n",
       "    <tr>\n",
       "      <th>24</th>\n",
       "      <td>1990</td>\n",
       "      <td>1A1 Energy industries</td>\n",
       "      <td>18958</td>\n",
       "      <td>1</td>\n",
       "    </tr>\n",
       "    <tr>\n",
       "      <th>32</th>\n",
       "      <td>1990</td>\n",
       "      <td>1A2 Manufacturing industries and construction</td>\n",
       "      <td>13358</td>\n",
       "      <td>1</td>\n",
       "    </tr>\n",
       "    <tr>\n",
       "      <th>40</th>\n",
       "      <td>1990</td>\n",
       "      <td>1A2(-1A2gvii) Manufacturing industries and con...</td>\n",
       "      <td>12414</td>\n",
       "      <td>0</td>\n",
       "    </tr>\n",
       "    <tr>\n",
       "      <th>48</th>\n",
       "      <td>1990</td>\n",
       "      <td>1A2gvii Off-road vehicles and other machinery ...</td>\n",
       "      <td>944</td>\n",
       "      <td>1</td>\n",
       "    </tr>\n",
       "  </tbody>\n",
       "</table>\n",
       "</div>"
      ],
      "text/plain": [
       "    Year                                  Emission category  \\\n",
       "16  1990                                           1 Energy   \n",
       "24  1990                              1A1 Energy industries   \n",
       "32  1990      1A2 Manufacturing industries and construction   \n",
       "40  1990  1A2(-1A2gvii) Manufacturing industries and con...   \n",
       "48  1990  1A2gvii Off-road vehicles and other machinery ...   \n",
       "\n",
       "    Emission CO2 equiv  main category  \n",
       "16               53420              1  \n",
       "24               18958              1  \n",
       "32               13358              1  \n",
       "40               12414              0  \n",
       "48                 944              1  "
      ]
     },
     "execution_count": 299,
     "metadata": {},
     "output_type": "execute_result"
    }
   ],
   "source": [
    "df_totals = df[df['Greenhouse gas'].str.contains('Total')]\n",
    "df_totals = df_totals[['Year', 'Emission category', 'Emission CO2 equiv', \"main category\"]]\n",
    "df_totals.head(5)"
   ]
  },
  {
   "cell_type": "code",
   "execution_count": 300,
   "metadata": {},
   "outputs": [
    {
     "name": "stderr",
     "output_type": "stream",
     "text": [
      "C:\\Users\\jr\\AppData\\Local\\Temp\\ipykernel_29240\\614958245.py:2: SettingWithCopyWarning: \n",
      "A value is trying to be set on a copy of a slice from a DataFrame\n",
      "\n",
      "See the caveats in the documentation: https://pandas.pydata.org/pandas-docs/stable/user_guide/indexing.html#returning-a-view-versus-a-copy\n",
      "  df_totals_main.loc[\"Emission category\"] = df_totals_main[\"Emission category\"].str.replace(r'^[1-5]\\s', '')\n"
     ]
    },
    {
     "data": {
      "text/html": [
       "<div>\n",
       "<style scoped>\n",
       "    .dataframe tbody tr th:only-of-type {\n",
       "        vertical-align: middle;\n",
       "    }\n",
       "\n",
       "    .dataframe tbody tr th {\n",
       "        vertical-align: top;\n",
       "    }\n",
       "\n",
       "    .dataframe thead th {\n",
       "        text-align: right;\n",
       "    }\n",
       "</style>\n",
       "<table border=\"1\" class=\"dataframe\">\n",
       "  <thead>\n",
       "    <tr style=\"text-align: right;\">\n",
       "      <th></th>\n",
       "      <th>Year</th>\n",
       "      <th>Emission category</th>\n",
       "      <th>Emission CO2 equiv</th>\n",
       "      <th>main category</th>\n",
       "    </tr>\n",
       "  </thead>\n",
       "  <tbody>\n",
       "    <tr>\n",
       "      <th>16</th>\n",
       "      <td>1990.0</td>\n",
       "      <td>1 Energy</td>\n",
       "      <td>53420.0</td>\n",
       "      <td>1.0</td>\n",
       "    </tr>\n",
       "    <tr>\n",
       "      <th>224</th>\n",
       "      <td>1990.0</td>\n",
       "      <td>2 Industrial processes and product use</td>\n",
       "      <td>5223.0</td>\n",
       "      <td>2.0</td>\n",
       "    </tr>\n",
       "    <tr>\n",
       "      <th>360</th>\n",
       "      <td>1990.0</td>\n",
       "      <td>3 Agriculture</td>\n",
       "      <td>7315.0</td>\n",
       "      <td>3.0</td>\n",
       "    </tr>\n",
       "    <tr>\n",
       "      <th>904</th>\n",
       "      <td>1990.0</td>\n",
       "      <td>5 Waste management</td>\n",
       "      <td>5208.0</td>\n",
       "      <td>5.0</td>\n",
       "    </tr>\n",
       "    <tr>\n",
       "      <th>960</th>\n",
       "      <td>1991.0</td>\n",
       "      <td>1 Energy</td>\n",
       "      <td>52097.0</td>\n",
       "      <td>1.0</td>\n",
       "    </tr>\n",
       "    <tr>\n",
       "      <th>1168</th>\n",
       "      <td>1991.0</td>\n",
       "      <td>2 Industrial processes and product use</td>\n",
       "      <td>4842.0</td>\n",
       "      <td>2.0</td>\n",
       "    </tr>\n",
       "    <tr>\n",
       "      <th>1304</th>\n",
       "      <td>1991.0</td>\n",
       "      <td>3 Agriculture</td>\n",
       "      <td>6885.0</td>\n",
       "      <td>3.0</td>\n",
       "    </tr>\n",
       "    <tr>\n",
       "      <th>1848</th>\n",
       "      <td>1991.0</td>\n",
       "      <td>5 Waste management</td>\n",
       "      <td>5269.0</td>\n",
       "      <td>5.0</td>\n",
       "    </tr>\n",
       "    <tr>\n",
       "      <th>1904</th>\n",
       "      <td>1992.0</td>\n",
       "      <td>1 Energy</td>\n",
       "      <td>51492.0</td>\n",
       "      <td>1.0</td>\n",
       "    </tr>\n",
       "    <tr>\n",
       "      <th>2112</th>\n",
       "      <td>1992.0</td>\n",
       "      <td>2 Industrial processes and product use</td>\n",
       "      <td>4567.0</td>\n",
       "      <td>2.0</td>\n",
       "    </tr>\n",
       "  </tbody>\n",
       "</table>\n",
       "</div>"
      ],
      "text/plain": [
       "        Year                       Emission category  Emission CO2 equiv  \\\n",
       "16    1990.0                                1 Energy             53420.0   \n",
       "224   1990.0  2 Industrial processes and product use              5223.0   \n",
       "360   1990.0                           3 Agriculture              7315.0   \n",
       "904   1990.0                      5 Waste management              5208.0   \n",
       "960   1991.0                                1 Energy             52097.0   \n",
       "1168  1991.0  2 Industrial processes and product use              4842.0   \n",
       "1304  1991.0                           3 Agriculture              6885.0   \n",
       "1848  1991.0                      5 Waste management              5269.0   \n",
       "1904  1992.0                                1 Energy             51492.0   \n",
       "2112  1992.0  2 Industrial processes and product use              4567.0   \n",
       "\n",
       "      main category  \n",
       "16              1.0  \n",
       "224             2.0  \n",
       "360             3.0  \n",
       "904             5.0  \n",
       "960             1.0  \n",
       "1168            2.0  \n",
       "1304            3.0  \n",
       "1848            5.0  \n",
       "1904            1.0  \n",
       "2112            2.0  "
      ]
     },
     "execution_count": 300,
     "metadata": {},
     "output_type": "execute_result"
    }
   ],
   "source": [
    "#df_totals_main = df_totals[df_totals['Emission category'].str.contains(r'^[1-5]\\s')]\n",
    "#df_totals_main.loc[\"Emission category\"] = df_totals_main[\"Emission category\"].str.replace(r'^[1-5]\\s', '')\n",
    "#df_totals_main.head(10)"
   ]
  },
  {
   "cell_type": "code",
   "execution_count": 301,
   "metadata": {},
   "outputs": [
    {
     "data": {
      "text/plain": [
       "16                                    Energy\n",
       "224     Industrial processes and product use\n",
       "360                              Agriculture\n",
       "904                         Waste management\n",
       "960                                   Energy\n",
       "1168    Industrial processes and product use\n",
       "1304                             Agriculture\n",
       "1848                        Waste management\n",
       "1904                                  Energy\n",
       "2112    Industrial processes and product use\n",
       "Name: Emission category, dtype: object"
      ]
     },
     "execution_count": 301,
     "metadata": {},
     "output_type": "execute_result"
    }
   ],
   "source": [
    "pofferi = df_totals_main[\"Emission category\"].str.replace(r'^[1-5]\\s', '', regex=True)\n",
    "pofferi[\"Kofferi\"] = df_totals_main[\"Emission category\"]\n",
    "pofferi.head(10)"
   ]
  },
  {
   "cell_type": "code",
   "execution_count": 302,
   "metadata": {},
   "outputs": [
    {
     "data": {
      "text/plain": [
       "<Axes: xlabel='Year'>"
      ]
     },
     "execution_count": 302,
     "metadata": {},
     "output_type": "execute_result"
    },
    {
     "data": {
      "image/png": "[encoded data removed]",
      "text/plain": [
       "<Figure size 2000x1000 with 1 Axes>"
      ]
     },
     "metadata": {},
     "output_type": "display_data"
    }
   ],
   "source": [
    "df_totals_main.pivot(index=['Year'], columns=['Emission category'], values='Emission CO2 equiv').plot(kind='bar', stacked=True, figsize=(20,10))"
   ]
  },
  {
   "cell_type": "code",
   "execution_count": 303,
   "metadata": {},
   "outputs": [
    {
     "data": {
      "text/plain": [
       "Year\n",
       "1990.0    71166.0\n",
       "1991.0    69093.0\n",
       "1992.0    67721.0\n",
       "1993.0    69936.0\n",
       "1994.0    75506.0\n",
       "1995.0    71759.0\n",
       "1996.0    77764.0\n",
       "1997.0    76424.0\n",
       "1998.0    72733.0\n",
       "1999.0    72052.0\n",
       "2000.0    70114.0\n",
       "2001.0    75430.0\n",
       "2002.0    77838.0\n",
       "2003.0    85424.0\n",
       "2004.0    81663.0\n",
       "2005.0    69626.0\n",
       "2006.0    80997.0\n",
       "2007.0    79324.0\n",
       "2008.0    71180.0\n",
       "2009.0    67559.0\n",
       "2010.0    75400.0\n",
       "2011.0    67654.0\n",
       "2012.0    62114.0\n",
       "2013.0    62586.0\n",
       "2014.0    58404.0\n",
       "2015.0    54905.0\n",
       "2016.0    57754.0\n",
       "2017.0    54947.0\n",
       "2018.0    55879.0\n",
       "2019.0    52591.0\n",
       "2020.0    47587.0\n",
       "2021.0    47546.0\n",
       "2022.0    45649.0\n",
       "Name: Emission CO2 equiv, dtype: float64"
      ]
     },
     "execution_count": 303,
     "metadata": {},
     "output_type": "execute_result"
    }
   ],
   "source": [
    "df_totals_main.groupby('Year')['Emission CO2 equiv'].sum()"
   ]
  },
  {
   "cell_type": "code",
   "execution_count": 304,
   "metadata": {},
   "outputs": [
    {
     "data": {
      "text/html": [
       "<div>\n",
       "<style scoped>\n",
       "    .dataframe tbody tr th:only-of-type {\n",
       "        vertical-align: middle;\n",
       "    }\n",
       "\n",
       "    .dataframe tbody tr th {\n",
       "        vertical-align: top;\n",
       "    }\n",
       "\n",
       "    .dataframe thead th {\n",
       "        text-align: right;\n",
       "    }\n",
       "</style>\n",
       "<table border=\"1\" class=\"dataframe\">\n",
       "  <thead>\n",
       "    <tr style=\"text-align: right;\">\n",
       "      <th></th>\n",
       "      <th>Year</th>\n",
       "      <th>Emission category</th>\n",
       "      <th>Emission CO2 equiv</th>\n",
       "      <th>main category</th>\n",
       "    </tr>\n",
       "  </thead>\n",
       "  <tbody>\n",
       "    <tr>\n",
       "      <th>30224</th>\n",
       "      <td>2022.0</td>\n",
       "      <td>1 Energy</td>\n",
       "      <td>32868.0</td>\n",
       "      <td>1.0</td>\n",
       "    </tr>\n",
       "    <tr>\n",
       "      <th>30432</th>\n",
       "      <td>2022.0</td>\n",
       "      <td>2 Industrial processes and product use</td>\n",
       "      <td>4979.0</td>\n",
       "      <td>2.0</td>\n",
       "    </tr>\n",
       "    <tr>\n",
       "      <th>30568</th>\n",
       "      <td>2022.0</td>\n",
       "      <td>3 Agriculture</td>\n",
       "      <td>6075.0</td>\n",
       "      <td>3.0</td>\n",
       "    </tr>\n",
       "    <tr>\n",
       "      <th>31112</th>\n",
       "      <td>2022.0</td>\n",
       "      <td>5 Waste management</td>\n",
       "      <td>1727.0</td>\n",
       "      <td>5.0</td>\n",
       "    </tr>\n",
       "  </tbody>\n",
       "</table>\n",
       "</div>"
      ],
      "text/plain": [
       "         Year                       Emission category  Emission CO2 equiv  \\\n",
       "30224  2022.0                                1 Energy             32868.0   \n",
       "30432  2022.0  2 Industrial processes and product use              4979.0   \n",
       "30568  2022.0                           3 Agriculture              6075.0   \n",
       "31112  2022.0                      5 Waste management              1727.0   \n",
       "\n",
       "       main category  \n",
       "30224            1.0  \n",
       "30432            2.0  \n",
       "30568            3.0  \n",
       "31112            5.0  "
      ]
     },
     "execution_count": 304,
     "metadata": {},
     "output_type": "execute_result"
    }
   ],
   "source": [
    "df_totals_main.loc[df_totals_main['Year'] == 2022]"
   ]
  },
  {
   "cell_type": "code",
   "execution_count": 305,
   "metadata": {},
   "outputs": [],
   "source": [
    "df_lulucf.to_excel(data_dir + 'lulucf.xlsx', index=False)\n",
    "df_totals_main.to_excel(data_dir + 'totals_main.xlsx', index=False)"
   ]
  }
 ],
 "metadata": {
  "kernelspec": {
   "display_name": ".venv",
   "language": "python",
   "name": "python3"
  },
  "language_info": {
   "codemirror_mode": {
    "name": "ipython",
    "version": 3
   },
   "file_extension": ".py",
   "mimetype": "text/x-python",
   "name": "python",
   "nbconvert_exporter": "python",
   "pygments_lexer": "ipython3",
   "version": "3.11.9"
  }
 },
 "nbformat": 4,
 "nbformat_minor": 2
}
